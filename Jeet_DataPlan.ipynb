{
 "cells": [
  {
   "cell_type": "markdown",
   "metadata": {},
   "source": [
    "**Background**: \n",
    "This data is a subset of the traffic data collected by the UK government from 2000\n",
    "to 2016 that consisted of over 1.6 million accidents obtain from police reports. I will be focusing\n",
    "on years 2012-2014. The raw dataset at large can be obtained from the UK Department of\n",
    "Transport. I chose this dataset as with an increasing number of accidents today, I am interested to\n",
    "investigate more about the cause of these accidents, and what changes or reforms that can be\n",
    "made to reduce the number. Additionally, being in Pittsburgh and being exposed to the concept\n",
    "of self-driving cars, I believe this information will be valuable for such companies.\n",
    "\n",
    "## (a)\n",
    "I have 464,697 (N =  464,697) observations in my dataset that I will be using for my analysis. My variables of interest are: \n",
    "\n",
    "**Qualitative**:\n",
    "\n",
    "1. Accident Severity \n",
    "2. Day of week\n",
    "3. Pedestrian Crossing (Human Control)\n",
    "4. Pedestrian Crossing (Physical Facilities)\n",
    "5. Weather \n",
    "6. Road Type\n",
    "7. Road Condition\n",
    "8. Junction Control\n",
    "9. Urban/Rural\n",
    "10. Did police office attend scene of accident\n",
    "11. Light conditions\n",
    "\n",
    "**Quantitative**: \n",
    "1. Longitude\n",
    "2. Latitude\n",
    "3. Number of casualties\n",
    "4. Speed Limit\n",
    "\n",
    "\n",
    "My predictor variables will be include Day of the week, Junction Control, Urban/Rural, Weather, Pedestrian Crossing, Latitude and Longitude. My response variable will be Accident Severity and I will cluster based on Longitude and Latitude to get the number of accidents which will also be my response variable. "
   ]
  },
  {
   "cell_type": "markdown",
   "metadata": {},
   "source": [
    "## (b)\n",
    "My data is in the form of a csv file exported from kaggle, an open source database. "
   ]
  },
  {
   "cell_type": "markdown",
   "metadata": {},
   "source": [
    "## (c)\n",
    "The only annomalies I see in my dataset are missing values in the observations for Junction Control. Depending on the number of missing values, while exploring this predictor variables I could potentially eliminate these from my data-set or use the Longitude and Latitude and use the accident data from previous years that was collected which may have the Junction Control because the data was collected from 2000 to 2016 and I am only using 2012-2014. "
   ]
  },
  {
   "cell_type": "markdown",
   "metadata": {},
   "source": [
    "## (d)\n",
    "My data-set had already been organized and formatted as a csv with each variable as a separate column with their respective obersvations in the rows. \n"
   ]
  },
  {
   "cell_type": "markdown",
   "metadata": {},
   "source": [
    "## (e)\n",
    "I will be testing the following Hypothesis: \n",
    "1. The accidents reported on weekends will be of greater in number and severity as compared to those reported on weekdays.\n",
    "2. The number accidents reported near stop signs will be greater than the number reported near traffic signals. \n",
    "3. The accident severity and frequency of accident will increase will with higher speed limits and in urban areas as compared to rural areas. \n",
    "\n",
    "I am also interested in how weather would impact accident, but I am not too sure of the hypothesis for this. "
   ]
  },
  {
   "cell_type": "markdown",
   "metadata": {},
   "source": [
    "## (f) \n",
    "I am not sure if this is the correct approach - \n",
    "I could look at correlation plots, ranking plots based on region and number of accidents, the change over time from 2010 to 2014. I could look at residual plots as well QQ-plots while doing my EDA. "
   ]
  }
 ],
 "metadata": {
  "kernelspec": {
   "display_name": "R",
   "language": "R",
   "name": "ir"
  },
  "language_info": {
   "codemirror_mode": "r",
   "file_extension": ".r",
   "mimetype": "text/x-r-source",
   "name": "R",
   "pygments_lexer": "r",
   "version": "3.4.2"
  }
 },
 "nbformat": 4,
 "nbformat_minor": 2
}
