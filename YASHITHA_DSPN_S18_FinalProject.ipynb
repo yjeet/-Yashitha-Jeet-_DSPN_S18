{
 "cells": [
  {
   "cell_type": "markdown",
   "metadata": {},
   "source": [
    "***Title***: Accidents in the United Kingdom (Working Title) \n",
    "\n",
    "***Background***: This data is a subset of the traffic data collected by the UK government from 2000 to 2016 that consisted of over 1.6 million accidents obtain from police reports. I will be focusing on years 2012-2014. The raw dataset at large can be obtained from the UK Department of Transport. I chose this dataset as with an increasing number of accidents today, I am interested to investigate more about the cause of these accidents, and what changes or reforms that can be made to reduce the number. Additionally, being in Pittsburgh and being exposed to the concept of self-driving cars, I believe this information will be valuable for such companies.\n",
    "\n",
    "***Variables***:\n",
    "\n",
    "**Sample**: \n",
    "- N = 464,697, p = 5\n",
    "\n",
    "**Predictor Variables**:\n",
    "\n",
    "Qualitative: \n",
    "- Day of the Week \n",
    "- Junction Control \n",
    "- Urban/Rural\n",
    "- Weather \n",
    "- Pedestrain Crossing \n",
    "- Speed Limit\n",
    "\n",
    "Quantitative: \n",
    "- Latitude \n",
    "- Longitude \n",
    "- Number of Casualties\n",
    "\n",
    "**Response Variables**: \n",
    "- Accident Severity (Qualitative)\n"
   ]
  },
  {
   "cell_type": "markdown",
   "metadata": {},
   "source": [
    "***Hypotheses***:\n",
    "\n",
    "I hypothesize that the severity of accidents is greater on weekends, urban areas and near traffic signals. I also hypothesize that speed limit has a significant effect on accident severity in urban areas I will use a multinomial logistic model as my response variable is categorical with three levels. The model is as follows:  \n",
    "$\\text{Accident Severity} = \\beta_0 + \\beta_1 (\\text{Day of the Week}) + \\beta_2 (\\text{Urban/Rural}) + \\beta_3 (\\text{Junction Control}) + \\beta_4 (\\text{Speed Limit}) + \\beta_5 (\\text{Urban/Rural * Speed Limit})$\n"
   ]
  },
  {
   "cell_type": "markdown",
   "metadata": {},
   "source": [
    "***Data Organization***:\n",
    "\n",
    "- The data is in the form of a csv file exported from kaggle, an open source database.\n",
    "- The only annomalies I see in my dataset are missing values in the observations for Junction Control. Depending on the number of missing values, while exploring this predictor variables I could potentially eliminate these from my data-set or use the Longitude and Latitude and use the accident data from previous years that was collected which may have the Junction Control because the data was collected from 2000 to 2016 and I am only using 2012-2014.\n"
   ]
  },
  {
   "cell_type": "markdown",
   "metadata": {},
   "source": [
    "***Analysis***:"
   ]
  },
  {
   "cell_type": "markdown",
   "metadata": {},
   "source": [
    "***Conclusion***:"
   ]
  }
 ],
 "metadata": {
  "kernelspec": {
   "display_name": "R",
   "language": "R",
   "name": "ir"
  },
  "language_info": {
   "codemirror_mode": "r",
   "file_extension": ".r",
   "mimetype": "text/x-r-source",
   "name": "R",
   "pygments_lexer": "r",
   "version": "3.4.3"
  }
 },
 "nbformat": 4,
 "nbformat_minor": 2
}
