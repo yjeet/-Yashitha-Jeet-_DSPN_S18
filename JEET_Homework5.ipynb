{
 "cells": [
  {
   "cell_type": "markdown",
   "metadata": {},
   "source": [
    "## Conceptual \n",
    "\n",
    "### 1. \n",
    "\n",
    "When there is large \"gap\" between the two distributions of the X values, it poses a problem for the Logistic Regression classifier. This is a problem because when the there is no overlap in the X values, the parameter estimates for the logistic regresion model are very unstable. Logistic regression involves using the maximum likelihood method to estimate the parameters and when there is a separation in the two distributions of the X values, the MLE does not exist and this poses the problem to Logistic Regression. Linear Discriminant Analysis (LDA) does not suffer with this limitation as it involves modeling X separately in each class and then using the Bayes theorem to flip around the estimates for Pr(Y = x| X = x). \n",
    "\n",
    "### 2. \n",
    "\n",
    "- Logistic Regression: \n",
    "\n",
    "Logistic Regression is a supervised, parametric model that assumes the following function: $p(X) = \\frac{e^{\\beta_0 + \\beta_1X}}{1 + e^{\\beta_0 + \\beta_1X}}$. Logistic regression models the probaility that Y belongs to a particular category and it has high bias and low variance. \n",
    "\n",
    "\n",
    "- LDA: \n",
    "\n",
    "Linear Discriminant Analysis is an unsupervised paramteric model that models the distribution of X separately for each category of Y. It obtains the probability distribution of X given a value of Y and then uses Bayes Theorem arrive at the desired probability. The functional form and approximation of the Bayes Theorem is $\\text{P(Y = K | X = X)} = \\frac{\\pi_kf_k(x)}{\\sum^k_{l=1}\\pi_lf_l(x)}$. \n",
    "\n",
    "- kNN: \n",
    "\n",
    "kNN algorithm is an unsupervised, non-parametric model that predicts what group of Y a new observation belongs by considering the k nearest neighbors. The algorithm to find the neighbors is to choose k, find the distance between a value of X and all observations in the data set, choose the k smallest distance and determine the class the observation belongs to by majority vote. For kNN classification, the variance of the classifier depends on the chosen value of k. As k grows, the model gets becomes less flexible and has a lot of bias. Whereas, for small values of k, the model has more flexibility and variance with a lower bias. Thus, in kNN algorithm, k determines the bias-variance trade-off. \n",
    "\n",
    "\n",
    "### 3. \n",
    "\n",
    "Dimensionality is defined as the ratio of observations (n) to predictor variables (p) i.e., $\\frac{p}{n}$. The biggest limitation of kNN arises when p approaches n i.e., when p gets larger than n. The curse of dimensionality is that kNN regression fails when the dimensionality of the problem gets too high. In other words, when p is large, it results in a phenonmenon when a given observation has no nearby neighbors and this is called the curse of dimensionality. The reason why kNN fails in high dimensional contexts is because the k observations nearest to the given test observation $x_0$ may be very far away when p is large and this leads to a poor prediction $f(x_0)$ and poor kNN fit. \n",
    "\n",
    "### 4. \n",
    "\n",
    "In the case where we use 1-nearest neighbors (i.e. K = 1), we have an error rate of 0% on the training data and thus with an average of 18%, this makes the error rate of the training data $18 \\text{ x } 2 = 36 \\text{%}$. Since this error data is greater than the 30% training error data from the logistic regression, we prefer the logisitc regression method for classification of new observations. \n",
    "\n",
    "\n",
    "## Applied\n",
    "\n",
    "### Ex 4.10\n",
    "\n",
    "### (a)"
   ]
  },
  {
   "cell_type": "code",
   "execution_count": 4,
   "metadata": {},
   "outputs": [
    {
     "data": {
      "text/plain": [
       "      Year           Lag1               Lag2               Lag3         \n",
       " Min.   :1990   Min.   :-18.1950   Min.   :-18.1950   Min.   :-18.1950  \n",
       " 1st Qu.:1995   1st Qu.: -1.1540   1st Qu.: -1.1540   1st Qu.: -1.1580  \n",
       " Median :2000   Median :  0.2410   Median :  0.2410   Median :  0.2410  \n",
       " Mean   :2000   Mean   :  0.1506   Mean   :  0.1511   Mean   :  0.1472  \n",
       " 3rd Qu.:2005   3rd Qu.:  1.4050   3rd Qu.:  1.4090   3rd Qu.:  1.4090  \n",
       " Max.   :2010   Max.   : 12.0260   Max.   : 12.0260   Max.   : 12.0260  \n",
       "      Lag4               Lag5              Volume            Today         \n",
       " Min.   :-18.1950   Min.   :-18.1950   Min.   :0.08747   Min.   :-18.1950  \n",
       " 1st Qu.: -1.1580   1st Qu.: -1.1660   1st Qu.:0.33202   1st Qu.: -1.1540  \n",
       " Median :  0.2380   Median :  0.2340   Median :1.00268   Median :  0.2410  \n",
       " Mean   :  0.1458   Mean   :  0.1399   Mean   :1.57462   Mean   :  0.1499  \n",
       " 3rd Qu.:  1.4090   3rd Qu.:  1.4050   3rd Qu.:2.05373   3rd Qu.:  1.4050  \n",
       " Max.   : 12.0260   Max.   : 12.0260   Max.   :9.32821   Max.   : 12.0260  \n",
       " Direction \n",
       " Down:484  \n",
       " Up  :605  \n",
       "           \n",
       "           \n",
       "           \n",
       "           "
      ]
     },
     "metadata": {},
     "output_type": "display_data"
    },
    {
     "data": {
      "text/html": [
       "<table>\n",
       "<thead><tr><th></th><th scope=col>Year</th><th scope=col>Lag1</th><th scope=col>Lag2</th><th scope=col>Lag3</th><th scope=col>Lag4</th><th scope=col>Lag5</th><th scope=col>Volume</th><th scope=col>Today</th></tr></thead>\n",
       "<tbody>\n",
       "\t<tr><th scope=row>Year</th><td> 1.00000000 </td><td>-0.032289274</td><td>-0.03339001 </td><td>-0.03000649 </td><td>-0.031127923</td><td>-0.030519101</td><td> 0.84194162 </td><td>-0.032459894</td></tr>\n",
       "\t<tr><th scope=row>Lag1</th><td>-0.03228927 </td><td> 1.000000000</td><td>-0.07485305 </td><td> 0.05863568 </td><td>-0.071273876</td><td>-0.008183096</td><td>-0.06495131 </td><td>-0.075031842</td></tr>\n",
       "\t<tr><th scope=row>Lag2</th><td>-0.03339001 </td><td>-0.074853051</td><td> 1.00000000 </td><td>-0.07572091 </td><td> 0.058381535</td><td>-0.072499482</td><td>-0.08551314 </td><td> 0.059166717</td></tr>\n",
       "\t<tr><th scope=row>Lag3</th><td>-0.03000649 </td><td> 0.058635682</td><td>-0.07572091 </td><td> 1.00000000 </td><td>-0.075395865</td><td> 0.060657175</td><td>-0.06928771 </td><td>-0.071243639</td></tr>\n",
       "\t<tr><th scope=row>Lag4</th><td>-0.03112792 </td><td>-0.071273876</td><td> 0.05838153 </td><td>-0.07539587 </td><td> 1.000000000</td><td>-0.075675027</td><td>-0.06107462 </td><td>-0.007825873</td></tr>\n",
       "\t<tr><th scope=row>Lag5</th><td>-0.03051910 </td><td>-0.008183096</td><td>-0.07249948 </td><td> 0.06065717 </td><td>-0.075675027</td><td> 1.000000000</td><td>-0.05851741 </td><td> 0.011012698</td></tr>\n",
       "\t<tr><th scope=row>Volume</th><td> 0.84194162 </td><td>-0.064951313</td><td>-0.08551314 </td><td>-0.06928771 </td><td>-0.061074617</td><td>-0.058517414</td><td> 1.00000000 </td><td>-0.033077783</td></tr>\n",
       "\t<tr><th scope=row>Today</th><td>-0.03245989 </td><td>-0.075031842</td><td> 0.05916672 </td><td>-0.07124364 </td><td>-0.007825873</td><td> 0.011012698</td><td>-0.03307778 </td><td> 1.000000000</td></tr>\n",
       "</tbody>\n",
       "</table>\n"
      ],
      "text/latex": [
       "\\begin{tabular}{r|llllllll}\n",
       "  & Year & Lag1 & Lag2 & Lag3 & Lag4 & Lag5 & Volume & Today\\\\\n",
       "\\hline\n",
       "\tYear &  1.00000000  & -0.032289274 & -0.03339001  & -0.03000649  & -0.031127923 & -0.030519101 &  0.84194162  & -0.032459894\\\\\n",
       "\tLag1 & -0.03228927  &  1.000000000 & -0.07485305  &  0.05863568  & -0.071273876 & -0.008183096 & -0.06495131  & -0.075031842\\\\\n",
       "\tLag2 & -0.03339001  & -0.074853051 &  1.00000000  & -0.07572091  &  0.058381535 & -0.072499482 & -0.08551314  &  0.059166717\\\\\n",
       "\tLag3 & -0.03000649  &  0.058635682 & -0.07572091  &  1.00000000  & -0.075395865 &  0.060657175 & -0.06928771  & -0.071243639\\\\\n",
       "\tLag4 & -0.03112792  & -0.071273876 &  0.05838153  & -0.07539587  &  1.000000000 & -0.075675027 & -0.06107462  & -0.007825873\\\\\n",
       "\tLag5 & -0.03051910  & -0.008183096 & -0.07249948  &  0.06065717  & -0.075675027 &  1.000000000 & -0.05851741  &  0.011012698\\\\\n",
       "\tVolume &  0.84194162  & -0.064951313 & -0.08551314  & -0.06928771  & -0.061074617 & -0.058517414 &  1.00000000  & -0.033077783\\\\\n",
       "\tToday & -0.03245989  & -0.075031842 &  0.05916672  & -0.07124364  & -0.007825873 &  0.011012698 & -0.03307778  &  1.000000000\\\\\n",
       "\\end{tabular}\n"
      ],
      "text/markdown": [
       "\n",
       "| <!--/--> | Year | Lag1 | Lag2 | Lag3 | Lag4 | Lag5 | Volume | Today | \n",
       "|---|---|---|---|---|---|---|---|\n",
       "| Year |  1.00000000  | -0.032289274 | -0.03339001  | -0.03000649  | -0.031127923 | -0.030519101 |  0.84194162  | -0.032459894 | \n",
       "| Lag1 | -0.03228927  |  1.000000000 | -0.07485305  |  0.05863568  | -0.071273876 | -0.008183096 | -0.06495131  | -0.075031842 | \n",
       "| Lag2 | -0.03339001  | -0.074853051 |  1.00000000  | -0.07572091  |  0.058381535 | -0.072499482 | -0.08551314  |  0.059166717 | \n",
       "| Lag3 | -0.03000649  |  0.058635682 | -0.07572091  |  1.00000000  | -0.075395865 |  0.060657175 | -0.06928771  | -0.071243639 | \n",
       "| Lag4 | -0.03112792  | -0.071273876 |  0.05838153  | -0.07539587  |  1.000000000 | -0.075675027 | -0.06107462  | -0.007825873 | \n",
       "| Lag5 | -0.03051910  | -0.008183096 | -0.07249948  |  0.06065717  | -0.075675027 |  1.000000000 | -0.05851741  |  0.011012698 | \n",
       "| Volume |  0.84194162  | -0.064951313 | -0.08551314  | -0.06928771  | -0.061074617 | -0.058517414 |  1.00000000  | -0.033077783 | \n",
       "| Today | -0.03245989  | -0.075031842 |  0.05916672  | -0.07124364  | -0.007825873 |  0.011012698 | -0.03307778  |  1.000000000 | \n",
       "\n",
       "\n"
      ],
      "text/plain": [
       "       Year        Lag1         Lag2        Lag3        Lag4        \n",
       "Year    1.00000000 -0.032289274 -0.03339001 -0.03000649 -0.031127923\n",
       "Lag1   -0.03228927  1.000000000 -0.07485305  0.05863568 -0.071273876\n",
       "Lag2   -0.03339001 -0.074853051  1.00000000 -0.07572091  0.058381535\n",
       "Lag3   -0.03000649  0.058635682 -0.07572091  1.00000000 -0.075395865\n",
       "Lag4   -0.03112792 -0.071273876  0.05838153 -0.07539587  1.000000000\n",
       "Lag5   -0.03051910 -0.008183096 -0.07249948  0.06065717 -0.075675027\n",
       "Volume  0.84194162 -0.064951313 -0.08551314 -0.06928771 -0.061074617\n",
       "Today  -0.03245989 -0.075031842  0.05916672 -0.07124364 -0.007825873\n",
       "       Lag5         Volume      Today       \n",
       "Year   -0.030519101  0.84194162 -0.032459894\n",
       "Lag1   -0.008183096 -0.06495131 -0.075031842\n",
       "Lag2   -0.072499482 -0.08551314  0.059166717\n",
       "Lag3    0.060657175 -0.06928771 -0.071243639\n",
       "Lag4   -0.075675027 -0.06107462 -0.007825873\n",
       "Lag5    1.000000000 -0.05851741  0.011012698\n",
       "Volume -0.058517414  1.00000000 -0.033077783\n",
       "Today   0.011012698 -0.03307778  1.000000000"
      ]
     },
     "metadata": {},
     "output_type": "display_data"
    },
    {
     "data": {
      "image/png": "[encoded data removed]",
      "text/plain": [
       "Plot with title “Histogram of Today”"
      ]
     },
     "metadata": {},
     "output_type": "display_data"
    }
   ],
   "source": [
    "library(ISLR)\n",
    "attach(Weekly)\n",
    "\n",
    "summary(Weekly)\n",
    "\n",
    "par(mfrow = c(3,3))\n",
    "hist(Lag1)\n",
    "hist(Lag2)\n",
    "hist(Lag3)\n",
    "hist(Lag4)\n",
    "hist(Lag5)\n",
    "plot(Volume)\n",
    "hist(Today)\n",
    "\n",
    "cor(Weekly[-9])"
   ]
  },
  {
   "cell_type": "markdown",
   "metadata": {},
   "source": [
    "We notice that there is a strong positive correlation between Year and Volume.  \n",
    "\n",
    "### (b)"
   ]
  },
  {
   "cell_type": "code",
   "execution_count": 5,
   "metadata": {},
   "outputs": [
    {
     "data": {
      "text/plain": [
       "\n",
       "Call:\n",
       "glm(formula = Direction ~ Lag1 + Lag2 + Lag3 + Lag4 + Lag5 + \n",
       "    Volume, family = \"binomial\", data = Weekly)\n",
       "\n",
       "Deviance Residuals: \n",
       "    Min       1Q   Median       3Q      Max  \n",
       "-1.6949  -1.2565   0.9913   1.0849   1.4579  \n",
       "\n",
       "Coefficients:\n",
       "            Estimate Std. Error z value Pr(>|z|)   \n",
       "(Intercept)  0.26686    0.08593   3.106   0.0019 **\n",
       "Lag1        -0.04127    0.02641  -1.563   0.1181   \n",
       "Lag2         0.05844    0.02686   2.175   0.0296 * \n",
       "Lag3        -0.01606    0.02666  -0.602   0.5469   \n",
       "Lag4        -0.02779    0.02646  -1.050   0.2937   \n",
       "Lag5        -0.01447    0.02638  -0.549   0.5833   \n",
       "Volume      -0.02274    0.03690  -0.616   0.5377   \n",
       "---\n",
       "Signif. codes:  0 ‘***’ 0.001 ‘**’ 0.01 ‘*’ 0.05 ‘.’ 0.1 ‘ ’ 1\n",
       "\n",
       "(Dispersion parameter for binomial family taken to be 1)\n",
       "\n",
       "    Null deviance: 1496.2  on 1088  degrees of freedom\n",
       "Residual deviance: 1486.4  on 1082  degrees of freedom\n",
       "AIC: 1500.4\n",
       "\n",
       "Number of Fisher Scoring iterations: 4\n"
      ]
     },
     "metadata": {},
     "output_type": "display_data"
    }
   ],
   "source": [
    "glm.fit = glm(Direction ~ Lag1 + Lag2 + Lag3 + Lag4 + Lag5 + Volume, data = Weekly, family = \"binomial\")\n",
    "summary(glm.fit)"
   ]
  },
  {
   "cell_type": "markdown",
   "metadata": {},
   "source": [
    "The only predictor that seems to be statistically significant is Lag2 with a p-value of approximately 0.03. \n",
    "\n",
    "### (c)"
   ]
  },
  {
   "cell_type": "code",
   "execution_count": 10,
   "metadata": {},
   "outputs": [
    {
     "data": {
      "text/plain": [
       "        Direction\n",
       "glm.pred Down  Up\n",
       "    Down   54  48\n",
       "    Up    430 557"
      ]
     },
     "metadata": {},
     "output_type": "display_data"
    },
    {
     "data": {
      "text/html": [
       "56.107"
      ],
      "text/latex": [
       "56.107"
      ],
      "text/markdown": [
       "56.107"
      ],
      "text/plain": [
       "[1] 56.107"
      ]
     },
     "metadata": {},
     "output_type": "display_data"
    }
   ],
   "source": [
    "glm.probs = predict(glm.fit, type = \"response\")\n",
    "glm.pred = rep(\"Down\", length(glm.probs)) \n",
    "glm.pred[glm.probs > 0.5] = \"Up\" \n",
    "table(glm.pred, Direction)\n",
    "\n",
    "round((54 + 557)/nrow(Weekly)* 100,3) # number of correct predictions "
   ]
  },
  {
   "cell_type": "markdown",
   "metadata": {},
   "source": [
    "The confusion table indicates that the percentage of correct predictions is 56.107%, thus the training data error rate is 43.893%. In other words, we are 56.107% correct in estimating whether the market will go up or down on a given day.  \n",
    "\n",
    "### (d)"
   ]
  },
  {
   "cell_type": "code",
   "execution_count": 12,
   "metadata": {},
   "outputs": [
    {
     "data": {
      "text/plain": [
       "          Direction.2008\n",
       "glm.pred.1 Down Up\n",
       "      Down    9  5\n",
       "      Up     34 56"
      ]
     },
     "metadata": {},
     "output_type": "display_data"
    },
    {
     "data": {
      "text/html": [
       "62.5"
      ],
      "text/latex": [
       "62.5"
      ],
      "text/markdown": [
       "62.5"
      ],
      "text/plain": [
       "[1] 62.5"
      ]
     },
     "metadata": {},
     "output_type": "display_data"
    }
   ],
   "source": [
    "train = (Year < 2009)\n",
    "Weekly.2008 = Weekly[!train,]\n",
    "Direction.2008 = Direction[!train]\n",
    "glm.fit.1 = glm(Direction ~ Lag2, data = Weekly, family = \"binomial\", subset = train) \n",
    "\n",
    "glm.probs.1 = predict(glm.fit.1, Weekly.2008, type = \"response\")\n",
    "glm.pred.1 = rep(\"Down\", length(glm.probs.1))\n",
    "glm.pred.1[glm.probs.1 > 0.5] = \"Up\"\n",
    "table(glm.pred.1, Direction.2008)\n",
    "\n",
    "round((9 + 56)/nrow(Weekly.2008)* 100,3)"
   ]
  },
  {
   "cell_type": "markdown",
   "metadata": {},
   "source": [
    "The confusion table indicates that we are 62.5% correct in estimating whether the market will go up or down on a given day. Thus, the training error rate is 37.5%.\n",
    "\n",
    "### (e)"
   ]
  },
  {
   "cell_type": "code",
   "execution_count": 14,
   "metadata": {},
   "outputs": [
    {
     "data": {
      "text/plain": [
       "Call:\n",
       "lda(Direction ~ Lag2, data = Weekly, subset = train)\n",
       "\n",
       "Prior probabilities of groups:\n",
       "     Down        Up \n",
       "0.4477157 0.5522843 \n",
       "\n",
       "Group means:\n",
       "            Lag2\n",
       "Down -0.03568254\n",
       "Up    0.26036581\n",
       "\n",
       "Coefficients of linear discriminants:\n",
       "           LD1\n",
       "Lag2 0.4414162"
      ]
     },
     "metadata": {},
     "output_type": "display_data"
    },
    {
     "data": {
      "text/plain": [
       "         Direction.2008\n",
       "lda.class Down Up\n",
       "     Down    9  5\n",
       "     Up     34 56"
      ]
     },
     "metadata": {},
     "output_type": "display_data"
    },
    {
     "data": {
      "text/html": [
       "0.625"
      ],
      "text/latex": [
       "0.625"
      ],
      "text/markdown": [
       "0.625"
      ],
      "text/plain": [
       "[1] 0.625"
      ]
     },
     "metadata": {},
     "output_type": "display_data"
    }
   ],
   "source": [
    "library(MASS)\n",
    "lda.fit = lda(Direction ~ Lag2, data = Weekly, subset = train)\n",
    "lda.fit\n",
    "\n",
    "lda.pred = predict(lda.fit, Weekly.2008)\n",
    "lda.class = lda.pred$class\n",
    "table(lda.class, Direction.2008)\n",
    "round(mean(lda.class == Direction.2008),3) # fraction of correct prediction"
   ]
  },
  {
   "cell_type": "markdown",
   "metadata": {},
   "source": [
    "The overall fraction of the correct predictions for the held out data is 62.5% and the training error rate is 37.5%. \n",
    "\n",
    "### (f)"
   ]
  },
  {
   "cell_type": "code",
   "execution_count": 15,
   "metadata": {},
   "outputs": [
    {
     "data": {
      "text/plain": [
       "Call:\n",
       "qda(Direction ~ Lag2, data = Weekly, subset = train)\n",
       "\n",
       "Prior probabilities of groups:\n",
       "     Down        Up \n",
       "0.4477157 0.5522843 \n",
       "\n",
       "Group means:\n",
       "            Lag2\n",
       "Down -0.03568254\n",
       "Up    0.26036581"
      ]
     },
     "metadata": {},
     "output_type": "display_data"
    },
    {
     "data": {
      "text/plain": [
       "         Direction.2008\n",
       "qda.class Down Up\n",
       "     Down    0  0\n",
       "     Up     43 61"
      ]
     },
     "metadata": {},
     "output_type": "display_data"
    },
    {
     "data": {
      "text/html": [
       "0.587"
      ],
      "text/latex": [
       "0.587"
      ],
      "text/markdown": [
       "0.587"
      ],
      "text/plain": [
       "[1] 0.587"
      ]
     },
     "metadata": {},
     "output_type": "display_data"
    }
   ],
   "source": [
    "qda.fit = qda(Direction ~ Lag2, data = Weekly, subset = train)\n",
    "qda.fit\n",
    "\n",
    "qda.class = predict(qda.fit, Weekly.2008)$class\n",
    "table(qda.class, Direction.2008)\n",
    "\n",
    "round(mean(qda.class == Direction.2008),3)"
   ]
  },
  {
   "cell_type": "markdown",
   "metadata": {},
   "source": [
    "The overall fraction of the correct predictions for the held out data is 58.7%, thus the training error rate is 41.3%. \n",
    "\n",
    "\n",
    "### (g)"
   ]
  },
  {
   "cell_type": "code",
   "execution_count": 16,
   "metadata": {},
   "outputs": [
    {
     "data": {
      "text/plain": [
       "        Direction.2008\n",
       "knn.pred Down Up\n",
       "    Down   21 30\n",
       "    Up     22 31"
      ]
     },
     "metadata": {},
     "output_type": "display_data"
    },
    {
     "data": {
      "text/html": [
       "0.5"
      ],
      "text/latex": [
       "0.5"
      ],
      "text/markdown": [
       "0.5"
      ],
      "text/plain": [
       "[1] 0.5"
      ]
     },
     "metadata": {},
     "output_type": "display_data"
    }
   ],
   "source": [
    "library(class)\n",
    "\n",
    "train.X = as.matrix(Lag2[train])\n",
    "test.X = as.matrix(Lag2[!train])\n",
    "train.Direction = Direction[train]\n",
    "\n",
    "knn.pred = knn(train.X, test.X, train.Direction, k = 1)\n",
    "table(knn.pred, Direction.2008)\n",
    "\n",
    "\n",
    "round(mean(knn.pred == Direction.2008),3)"
   ]
  },
  {
   "cell_type": "markdown",
   "metadata": {},
   "source": [
    "The overall fraction of the correct predictions for the held out data is 50%, and the training error rate is 50% for kNN.\n",
    "\n",
    "### (h)\n",
    "\n",
    "From the above analysis we notice that Logistic Regression and LDA have the smallest error rate of 37.5%, this is followed by QDA and then kNN, which has the largest error rate. \n",
    "\n",
    "### (i)"
   ]
  },
  {
   "cell_type": "code",
   "execution_count": 33,
   "metadata": {},
   "outputs": [
    {
     "data": {
      "text/plain": [
       "              Direction.2008\n",
       "qda.class.test Down Up\n",
       "          Down   23 36\n",
       "          Up     20 25"
      ]
     },
     "metadata": {},
     "output_type": "display_data"
    },
    {
     "data": {
      "text/html": [
       "0.538"
      ],
      "text/latex": [
       "0.538"
      ],
      "text/markdown": [
       "0.538"
      ],
      "text/plain": [
       "[1] 0.538"
      ]
     },
     "metadata": {},
     "output_type": "display_data"
    },
    {
     "data": {
      "text/plain": [
       "              Direction.2008\n",
       "lda.class.test Down Up\n",
       "          Down    7  8\n",
       "          Up     36 53"
      ]
     },
     "metadata": {},
     "output_type": "display_data"
    },
    {
     "data": {
      "text/html": [
       "0.423"
      ],
      "text/latex": [
       "0.423"
      ],
      "text/markdown": [
       "0.423"
      ],
      "text/plain": [
       "[1] 0.423"
      ]
     },
     "metadata": {},
     "output_type": "display_data"
    },
    {
     "data": {
      "text/plain": [
       "             Direction.2008\n",
       "glm.pred.test Down Up\n",
       "         Down    7  8\n",
       "         Up     36 53"
      ]
     },
     "metadata": {},
     "output_type": "display_data"
    },
    {
     "data": {
      "text/html": [
       "0.423"
      ],
      "text/latex": [
       "0.423"
      ],
      "text/markdown": [
       "0.423"
      ],
      "text/plain": [
       "[1] 0.423"
      ]
     },
     "metadata": {},
     "output_type": "display_data"
    }
   ],
   "source": [
    "# Including interaction term in Model \n",
    "\n",
    "qda.fit.test = qda(Direction ~ Lag2*Lag1, data = Weekly, subset = train)\n",
    "\n",
    "qda.class.test = predict(qda.fit.test, Weekly.2008)$class\n",
    "table(qda.class.test, Direction.2008)\n",
    "1 - round(mean(qda.class.test == Direction.2008),3)\n",
    "\n",
    "lda.fit.test = lda(Direction ~ Lag2*Lag1, data = Weekly, subset = train)\n",
    "\n",
    "lda.class.test = predict(lda.fit.test, Weekly.2008)$class\n",
    "table(lda.class.test, Direction.2008)\n",
    "1 - round(mean(lda.class.test == Direction.2008),3) # training data error rate \n",
    "\n",
    "glm.fit.test = glm(Direction ~ Lag2*Lag1, data = Weekly, family = \"binomial\", subset = train) \n",
    "\n",
    "glm.probs.test = predict(glm.fit.test, Weekly.2008, type = \"response\")\n",
    "glm.pred.test = rep(\"Down\", length(glm.probs.test))\n",
    "glm.pred.test[glm.probs.test > 0.5] = \"Up\"\n",
    "table(glm.pred.test, Direction.2008)\n",
    "\n",
    "1 - round(mean(glm.pred.test == Direction.2008),3)"
   ]
  },
  {
   "cell_type": "code",
   "execution_count": 26,
   "metadata": {},
   "outputs": [
    {
     "data": {
      "text/html": [
       "0.423"
      ],
      "text/latex": [
       "0.423"
      ],
      "text/markdown": [
       "0.423"
      ],
      "text/plain": [
       "[1] 0.423"
      ]
     },
     "metadata": {},
     "output_type": "display_data"
    },
    {
     "data": {
      "text/html": [
       "0.433"
      ],
      "text/latex": [
       "0.433"
      ],
      "text/markdown": [
       "0.433"
      ],
      "text/plain": [
       "[1] 0.433"
      ]
     },
     "metadata": {},
     "output_type": "display_data"
    },
    {
     "data": {
      "text/html": [
       "0.385"
      ],
      "text/latex": [
       "0.385"
      ],
      "text/markdown": [
       "0.385"
      ],
      "text/plain": [
       "[1] 0.385"
      ]
     },
     "metadata": {},
     "output_type": "display_data"
    }
   ],
   "source": [
    "# testing with different values of k \n",
    "knn.pred.10 = knn(train.X, test.X, train.Direction, k = 10)\n",
    "knn.pred.50 = knn(train.X, test.X, train.Direction, k = 50)\n",
    "knn.pred.100 = knn(train.X, test.X, train.Direction, k = 200)\n",
    "\n",
    "1 - round(mean(knn.pred.10 == Direction.2008),3) \n",
    "1 - round(mean(knn.pred.50 == Direction.2008),3)\n",
    "1 - round(mean(knn.pred.100 == Direction.2008),3)"
   ]
  },
  {
   "cell_type": "markdown",
   "metadata": {},
   "source": [
    "Upon adding interaction terms, we notice that the error rates were worse than our original model. Additionally, while testing the kNN classifier, we notice that for larger values of k the training error rate reduces, with k = 200 having the best error rate of 38.5%. \n",
    "\n",
    "## Ex. 4.11\n",
    "\n",
    "### (a)"
   ]
  },
  {
   "cell_type": "code",
   "execution_count": 35,
   "metadata": {},
   "outputs": [],
   "source": [
    "attach(Auto)\n",
    "\n",
    "Auto$mpg01 = ifelse(mpg > median(mpg), 1 , 0)"
   ]
  },
  {
   "cell_type": "markdown",
   "metadata": {},
   "source": [
    "### (b)"
   ]
  },
  {
   "cell_type": "code",
   "execution_count": 36,
   "metadata": {},
   "outputs": [
    {
     "data": {
      "text/html": [
       "<table>\n",
       "<thead><tr><th></th><th scope=col>mpg</th><th scope=col>cylinders</th><th scope=col>displacement</th><th scope=col>horsepower</th><th scope=col>weight</th><th scope=col>acceleration</th><th scope=col>year</th><th scope=col>origin</th><th scope=col>mpg01</th></tr></thead>\n",
       "<tbody>\n",
       "\t<tr><th scope=row>mpg</th><td> 1.0000000</td><td>-0.7776175</td><td>-0.8051269</td><td>-0.7784268</td><td>-0.8322442</td><td> 0.4233285</td><td> 0.5805410</td><td> 0.5652088</td><td> 0.8369392</td></tr>\n",
       "\t<tr><th scope=row>cylinders</th><td>-0.7776175</td><td> 1.0000000</td><td> 0.9508233</td><td> 0.8429834</td><td> 0.8975273</td><td>-0.5046834</td><td>-0.3456474</td><td>-0.5689316</td><td>-0.7591939</td></tr>\n",
       "\t<tr><th scope=row>displacement</th><td>-0.8051269</td><td> 0.9508233</td><td> 1.0000000</td><td> 0.8972570</td><td> 0.9329944</td><td>-0.5438005</td><td>-0.3698552</td><td>-0.6145351</td><td>-0.7534766</td></tr>\n",
       "\t<tr><th scope=row>horsepower</th><td>-0.7784268</td><td> 0.8429834</td><td> 0.8972570</td><td> 1.0000000</td><td> 0.8645377</td><td>-0.6891955</td><td>-0.4163615</td><td>-0.4551715</td><td>-0.6670526</td></tr>\n",
       "\t<tr><th scope=row>weight</th><td>-0.8322442</td><td> 0.8975273</td><td> 0.9329944</td><td> 0.8645377</td><td> 1.0000000</td><td>-0.4168392</td><td>-0.3091199</td><td>-0.5850054</td><td>-0.7577566</td></tr>\n",
       "\t<tr><th scope=row>acceleration</th><td> 0.4233285</td><td>-0.5046834</td><td>-0.5438005</td><td>-0.6891955</td><td>-0.4168392</td><td> 1.0000000</td><td> 0.2903161</td><td> 0.2127458</td><td> 0.3468215</td></tr>\n",
       "\t<tr><th scope=row>year</th><td> 0.5805410</td><td>-0.3456474</td><td>-0.3698552</td><td>-0.4163615</td><td>-0.3091199</td><td> 0.2903161</td><td> 1.0000000</td><td> 0.1815277</td><td> 0.4299042</td></tr>\n",
       "\t<tr><th scope=row>origin</th><td> 0.5652088</td><td>-0.5689316</td><td>-0.6145351</td><td>-0.4551715</td><td>-0.5850054</td><td> 0.2127458</td><td> 0.1815277</td><td> 1.0000000</td><td> 0.5136984</td></tr>\n",
       "\t<tr><th scope=row>mpg01</th><td> 0.8369392</td><td>-0.7591939</td><td>-0.7534766</td><td>-0.6670526</td><td>-0.7577566</td><td> 0.3468215</td><td> 0.4299042</td><td> 0.5136984</td><td> 1.0000000</td></tr>\n",
       "</tbody>\n",
       "</table>\n"
      ],
      "text/latex": [
       "\\begin{tabular}{r|lllllllll}\n",
       "  & mpg & cylinders & displacement & horsepower & weight & acceleration & year & origin & mpg01\\\\\n",
       "\\hline\n",
       "\tmpg &  1.0000000 & -0.7776175 & -0.8051269 & -0.7784268 & -0.8322442 &  0.4233285 &  0.5805410 &  0.5652088 &  0.8369392\\\\\n",
       "\tcylinders & -0.7776175 &  1.0000000 &  0.9508233 &  0.8429834 &  0.8975273 & -0.5046834 & -0.3456474 & -0.5689316 & -0.7591939\\\\\n",
       "\tdisplacement & -0.8051269 &  0.9508233 &  1.0000000 &  0.8972570 &  0.9329944 & -0.5438005 & -0.3698552 & -0.6145351 & -0.7534766\\\\\n",
       "\thorsepower & -0.7784268 &  0.8429834 &  0.8972570 &  1.0000000 &  0.8645377 & -0.6891955 & -0.4163615 & -0.4551715 & -0.6670526\\\\\n",
       "\tweight & -0.8322442 &  0.8975273 &  0.9329944 &  0.8645377 &  1.0000000 & -0.4168392 & -0.3091199 & -0.5850054 & -0.7577566\\\\\n",
       "\tacceleration &  0.4233285 & -0.5046834 & -0.5438005 & -0.6891955 & -0.4168392 &  1.0000000 &  0.2903161 &  0.2127458 &  0.3468215\\\\\n",
       "\tyear &  0.5805410 & -0.3456474 & -0.3698552 & -0.4163615 & -0.3091199 &  0.2903161 &  1.0000000 &  0.1815277 &  0.4299042\\\\\n",
       "\torigin &  0.5652088 & -0.5689316 & -0.6145351 & -0.4551715 & -0.5850054 &  0.2127458 &  0.1815277 &  1.0000000 &  0.5136984\\\\\n",
       "\tmpg01 &  0.8369392 & -0.7591939 & -0.7534766 & -0.6670526 & -0.7577566 &  0.3468215 &  0.4299042 &  0.5136984 &  1.0000000\\\\\n",
       "\\end{tabular}\n"
      ],
      "text/markdown": [
       "\n",
       "| <!--/--> | mpg | cylinders | displacement | horsepower | weight | acceleration | year | origin | mpg01 | \n",
       "|---|---|---|---|---|---|---|---|---|\n",
       "| mpg |  1.0000000 | -0.7776175 | -0.8051269 | -0.7784268 | -0.8322442 |  0.4233285 |  0.5805410 |  0.5652088 |  0.8369392 | \n",
       "| cylinders | -0.7776175 |  1.0000000 |  0.9508233 |  0.8429834 |  0.8975273 | -0.5046834 | -0.3456474 | -0.5689316 | -0.7591939 | \n",
       "| displacement | -0.8051269 |  0.9508233 |  1.0000000 |  0.8972570 |  0.9329944 | -0.5438005 | -0.3698552 | -0.6145351 | -0.7534766 | \n",
       "| horsepower | -0.7784268 |  0.8429834 |  0.8972570 |  1.0000000 |  0.8645377 | -0.6891955 | -0.4163615 | -0.4551715 | -0.6670526 | \n",
       "| weight | -0.8322442 |  0.8975273 |  0.9329944 |  0.8645377 |  1.0000000 | -0.4168392 | -0.3091199 | -0.5850054 | -0.7577566 | \n",
       "| acceleration |  0.4233285 | -0.5046834 | -0.5438005 | -0.6891955 | -0.4168392 |  1.0000000 |  0.2903161 |  0.2127458 |  0.3468215 | \n",
       "| year |  0.5805410 | -0.3456474 | -0.3698552 | -0.4163615 | -0.3091199 |  0.2903161 |  1.0000000 |  0.1815277 |  0.4299042 | \n",
       "| origin |  0.5652088 | -0.5689316 | -0.6145351 | -0.4551715 | -0.5850054 |  0.2127458 |  0.1815277 |  1.0000000 |  0.5136984 | \n",
       "| mpg01 |  0.8369392 | -0.7591939 | -0.7534766 | -0.6670526 | -0.7577566 |  0.3468215 |  0.4299042 |  0.5136984 |  1.0000000 | \n",
       "\n",
       "\n"
      ],
      "text/plain": [
       "             mpg        cylinders  displacement horsepower weight    \n",
       "mpg           1.0000000 -0.7776175 -0.8051269   -0.7784268 -0.8322442\n",
       "cylinders    -0.7776175  1.0000000  0.9508233    0.8429834  0.8975273\n",
       "displacement -0.8051269  0.9508233  1.0000000    0.8972570  0.9329944\n",
       "horsepower   -0.7784268  0.8429834  0.8972570    1.0000000  0.8645377\n",
       "weight       -0.8322442  0.8975273  0.9329944    0.8645377  1.0000000\n",
       "acceleration  0.4233285 -0.5046834 -0.5438005   -0.6891955 -0.4168392\n",
       "year          0.5805410 -0.3456474 -0.3698552   -0.4163615 -0.3091199\n",
       "origin        0.5652088 -0.5689316 -0.6145351   -0.4551715 -0.5850054\n",
       "mpg01         0.8369392 -0.7591939 -0.7534766   -0.6670526 -0.7577566\n",
       "             acceleration year       origin     mpg01     \n",
       "mpg           0.4233285    0.5805410  0.5652088  0.8369392\n",
       "cylinders    -0.5046834   -0.3456474 -0.5689316 -0.7591939\n",
       "displacement -0.5438005   -0.3698552 -0.6145351 -0.7534766\n",
       "horsepower   -0.6891955   -0.4163615 -0.4551715 -0.6670526\n",
       "weight       -0.4168392   -0.3091199 -0.5850054 -0.7577566\n",
       "acceleration  1.0000000    0.2903161  0.2127458  0.3468215\n",
       "year          0.2903161    1.0000000  0.1815277  0.4299042\n",
       "origin        0.2127458    0.1815277  1.0000000  0.5136984\n",
       "mpg01         0.3468215    0.4299042  0.5136984  1.0000000"
      ]
     },
     "metadata": {},
     "output_type": "display_data"
    },
    {
     "data": {
      "image/png": "[encoded data removed]",
      "text/plain": [
       "plot without title"
      ]
     },
     "metadata": {},
     "output_type": "display_data"
    },
    {
     "data": {
      "image/png": "[encoded data removed]",
      "text/plain": [
       "plot without title"
      ]
     },
     "metadata": {},
     "output_type": "display_data"
    },
    {
     "data": {
      "image/png": "[encoded data removed]",
      "text/plain": [
       "plot without title"
      ]
     },
     "metadata": {},
     "output_type": "display_data"
    },
    {
     "data": {
      "image/png": "[encoded data removed]",
      "text/plain": [
       "plot without title"
      ]
     },
     "metadata": {},
     "output_type": "display_data"
    }
   ],
   "source": [
    "cor(Auto[-9])\n",
    "boxplot(cylinders ~ mpg01, data = Auto)\n",
    "boxplot(displacement ~ mpg01, data = Auto)\n",
    "boxplot(horsepower ~ mpg01, data = Auto)\n",
    "boxplot(weight ~ mpg01, data = Auto)"
   ]
  },
  {
   "cell_type": "markdown",
   "metadata": {},
   "source": [
    "Based on the correlations and the boxplots we notice that mpg01 seems to have a strong negative correlation with cylinders, displacement, horsepower and weight. \n",
    "\n",
    "### (c)"
   ]
  },
  {
   "cell_type": "code",
   "execution_count": 13,
   "metadata": {},
   "outputs": [],
   "source": [
    "mpg01 = Auto$mpg01\n",
    "train = year < 76\n",
    "Auto.train = Auto[train,]\n",
    "Auto.test = Auto[!train,]\n",
    "mpg01.test = mpg01[!train]"
   ]
  },
  {
   "cell_type": "markdown",
   "metadata": {},
   "source": [
    "### (d)"
   ]
  },
  {
   "cell_type": "code",
   "execution_count": 14,
   "metadata": {},
   "outputs": [
    {
     "data": {
      "text/plain": [
       "Call:\n",
       "lda(mpg01 ~ cylinders + displacement + horsepower + weight, data = Weekly, \n",
       "    subset = train)\n",
       "\n",
       "Prior probabilities of groups:\n",
       "        0         1 \n",
       "0.6777778 0.3222222 \n",
       "\n",
       "Group means:\n",
       "  cylinders displacement horsepower   weight\n",
       "0  6.852459     285.8607  136.22131 3671.746\n",
       "1  4.034483     104.3707   79.72414 2228.172\n",
       "\n",
       "Coefficients of linear discriminants:\n",
       "                       LD1\n",
       "cylinders    -0.3810303552\n",
       "displacement -0.0074765653\n",
       "horsepower    0.0157299449\n",
       "weight       -0.0006540381"
      ]
     },
     "metadata": {},
     "output_type": "display_data"
    },
    {
     "data": {
      "text/plain": [
       "           mpg01.test\n",
       "lda.class.1   0   1\n",
       "          0  66  15\n",
       "          1   8 123"
      ]
     },
     "metadata": {},
     "output_type": "display_data"
    },
    {
     "data": {
      "text/html": [
       "10.8490566037736"
      ],
      "text/latex": [
       "10.8490566037736"
      ],
      "text/markdown": [
       "10.8490566037736"
      ],
      "text/plain": [
       "[1] 10.84906"
      ]
     },
     "metadata": {},
     "output_type": "display_data"
    }
   ],
   "source": [
    "lda.fit.1 = lda(mpg01 ~ cylinders + displacement + horsepower + weight, data = Weekly, subset = train)\n",
    "lda.fit.1\n",
    "\n",
    "lda.pred.1 = predict(lda.fit.1, Auto.test)\n",
    "lda.class.1 = lda.pred.1$class\n",
    "table(lda.class.1, mpg01.test)\n",
    "\n",
    "mean(lda.class.1 != mpg01.test)*100"
   ]
  },
  {
   "cell_type": "markdown",
   "metadata": {},
   "source": [
    "The test error rate of the model is 10.85%. \n",
    "### (e)"
   ]
  },
  {
   "cell_type": "code",
   "execution_count": 15,
   "metadata": {},
   "outputs": [
    {
     "data": {
      "text/plain": [
       "Call:\n",
       "qda(mpg01 ~ cylinders + displacement + horsepower + weight, data = Weekly, \n",
       "    subset = train)\n",
       "\n",
       "Prior probabilities of groups:\n",
       "        0         1 \n",
       "0.6777778 0.3222222 \n",
       "\n",
       "Group means:\n",
       "  cylinders displacement horsepower   weight\n",
       "0  6.852459     285.8607  136.22131 3671.746\n",
       "1  4.034483     104.3707   79.72414 2228.172"
      ]
     },
     "metadata": {},
     "output_type": "display_data"
    },
    {
     "data": {
      "text/plain": [
       "           mpg01.test\n",
       "qda.class.1   0   1\n",
       "          0  70  21\n",
       "          1   4 117"
      ]
     },
     "metadata": {},
     "output_type": "display_data"
    },
    {
     "data": {
      "text/html": [
       "11.7924528301887"
      ],
      "text/latex": [
       "11.7924528301887"
      ],
      "text/markdown": [
       "11.7924528301887"
      ],
      "text/plain": [
       "[1] 11.79245"
      ]
     },
     "metadata": {},
     "output_type": "display_data"
    }
   ],
   "source": [
    "qda.fit.1 = qda(mpg01 ~ cylinders + displacement + horsepower + weight, data = Weekly, subset = train)\n",
    "qda.fit.1\n",
    "\n",
    "qda.class.1 = predict(qda.fit.1, Auto.test)$class\n",
    "table(qda.class.1, mpg01.test)\n",
    "\n",
    "mean(qda.class.1 != mpg01.test)*100"
   ]
  },
  {
   "cell_type": "markdown",
   "metadata": {},
   "source": [
    "The test error rate of the model is 11.79%.\n",
    "\n",
    "### (f)"
   ]
  },
  {
   "cell_type": "code",
   "execution_count": 16,
   "metadata": {},
   "outputs": [
    {
     "data": {
      "text/plain": [
       "\n",
       "Call:\n",
       "glm(formula = mpg01 ~ cylinders + displacement + horsepower + \n",
       "    weight, data = Weekly, subset = train)\n",
       "\n",
       "Deviance Residuals: \n",
       "     Min        1Q    Median        3Q       Max  \n",
       "-0.91793  -0.17157   0.06845   0.24805   0.66980  \n",
       "\n",
       "Coefficients:\n",
       "               Estimate Std. Error t value Pr(>|t|)    \n",
       "(Intercept)   1.299e+00  1.540e-01   8.432 1.22e-14 ***\n",
       "cylinders    -8.846e-02  4.439e-02  -1.993  0.04783 *  \n",
       "displacement -1.736e-03  8.736e-04  -1.987  0.04849 *  \n",
       "horsepower    3.652e-03  1.235e-03   2.956  0.00354 ** \n",
       "weight       -1.518e-04  6.773e-05  -2.242  0.02622 *  \n",
       "---\n",
       "Signif. codes:  0 ‘***’ 0.001 ‘**’ 0.01 ‘*’ 0.05 ‘.’ 0.1 ‘ ’ 1\n",
       "\n",
       "(Dispersion parameter for gaussian family taken to be 0.0949826)\n",
       "\n",
       "    Null deviance: 39.311  on 179  degrees of freedom\n",
       "Residual deviance: 16.622  on 175  degrees of freedom\n",
       "AIC: 94.016\n",
       "\n",
       "Number of Fisher Scoring iterations: 2\n"
      ]
     },
     "metadata": {},
     "output_type": "display_data"
    },
    {
     "data": {
      "text/plain": [
       "          mpg01.test\n",
       "glm.pred.1   0   1\n",
       "         0  66  15\n",
       "         1   8 123"
      ]
     },
     "metadata": {},
     "output_type": "display_data"
    },
    {
     "data": {
      "text/html": [
       "10.8490566037736"
      ],
      "text/latex": [
       "10.8490566037736"
      ],
      "text/markdown": [
       "10.8490566037736"
      ],
      "text/plain": [
       "[1] 10.84906"
      ]
     },
     "metadata": {},
     "output_type": "display_data"
    }
   ],
   "source": [
    "glm.fit.1 = glm(mpg01 ~ cylinders + displacement + horsepower + weight, data = Weekly, subset = train)\n",
    "summary(glm.fit.1)\n",
    "\n",
    "glm.probs.1 = predict(glm.fit.1, Auto.test, type = \"response\")\n",
    "glm.pred.1 = rep(0, length(glm.probs.1)) \n",
    "glm.pred.1[glm.probs.1 > 0.5] = 1 \n",
    "table(glm.pred.1, mpg01.test)\n",
    "\n",
    "mean(glm.pred.1 != mpg01.test)*100"
   ]
  },
  {
   "cell_type": "markdown",
   "metadata": {},
   "source": [
    "The test error rate of the model is 10.85%. \n",
    "\n",
    "### (g)"
   ]
  },
  {
   "cell_type": "code",
   "execution_count": 17,
   "metadata": {},
   "outputs": [
    {
     "data": {
      "text/plain": [
       "          mpg01.test\n",
       "knn.pred.1   0   1\n",
       "         0  19  20\n",
       "         1  55 118"
      ]
     },
     "metadata": {},
     "output_type": "display_data"
    },
    {
     "data": {
      "text/html": [
       "35.377358490566"
      ],
      "text/latex": [
       "35.377358490566"
      ],
      "text/markdown": [
       "35.377358490566"
      ],
      "text/plain": [
       "[1] 35.37736"
      ]
     },
     "metadata": {},
     "output_type": "display_data"
    },
    {
     "data": {
      "text/plain": [
       "           mpg01.test\n",
       "knn.pred.10   0   1\n",
       "          0  14  29\n",
       "          1  60 109"
      ]
     },
     "metadata": {},
     "output_type": "display_data"
    },
    {
     "data": {
      "text/html": [
       "41.9811320754717"
      ],
      "text/latex": [
       "41.9811320754717"
      ],
      "text/markdown": [
       "41.9811320754717"
      ],
      "text/plain": [
       "[1] 41.98113"
      ]
     },
     "metadata": {},
     "output_type": "display_data"
    },
    {
     "data": {
      "text/plain": [
       "            mpg01.test\n",
       "knn.pred.100   0   1\n",
       "           0   5   0\n",
       "           1  69 138"
      ]
     },
     "metadata": {},
     "output_type": "display_data"
    },
    {
     "data": {
      "text/html": [
       "32.5471698113208"
      ],
      "text/latex": [
       "32.5471698113208"
      ],
      "text/markdown": [
       "32.5471698113208"
      ],
      "text/plain": [
       "[1] 32.54717"
      ]
     },
     "metadata": {},
     "output_type": "display_data"
    }
   ],
   "source": [
    "train.X = cbind(cylinders, displacement, horsepower, weight)[train,]\n",
    "test.X = cbind(cylinders, displacement, horsepower, weight)[!train,]\n",
    "\n",
    "train.mpg01 = mpg01.test[train] \n",
    "set.seed(1)\n",
    "knn.pred.1 = knn(train.X, test.X, train.mpg01, k = 1)\n",
    "table(knn.pred.1, mpg01.test)\n",
    "mean(knn.pred.1 != mpg01.test)*100\n",
    "\n",
    "knn.pred.10 = knn(train.X, test.X, train.mpg01, k = 10)\n",
    "table(knn.pred.10, mpg01.test)\n",
    "mean(knn.pred.10 != mpg01.test)*100\n",
    "\n",
    "knn.pred.100 = knn(train.X, test.X, train.mpg01, k = 50)\n",
    "table(knn.pred.100, mpg01.test)\n",
    "mean(knn.pred.100 != mpg01.test)*100"
   ]
  },
  {
   "cell_type": "markdown",
   "metadata": {},
   "source": [
    "Based on our output above, we notice that the value of k = 100 seems to have the smallest test error rate of 32.55% and thus seems to perform the best."
   ]
  }
 ],
 "metadata": {
  "kernelspec": {
   "display_name": "R",
   "language": "R",
   "name": "ir"
  },
  "language_info": {
   "codemirror_mode": "r",
   "file_extension": ".r",
   "mimetype": "text/x-r-source",
   "name": "R",
   "pygments_lexer": "r",
   "version": "3.4.3"
  }
 },
 "nbformat": 4,
 "nbformat_minor": 2
}
