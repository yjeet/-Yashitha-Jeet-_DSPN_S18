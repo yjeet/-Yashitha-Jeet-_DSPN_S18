{
 "cells": [
  {
   "cell_type": "markdown",
   "metadata": {},
   "source": [
    "***Title***:  Accidents in the United Kingdom (Subject to Change)\n",
    "\n",
    "***Background***: This data is a subset of the traffic data collected by the UK government from 2000 to 2016 that consisted of over 1.6 million accidents obtain from police reports. I will be focusing on years 2012-2014. The raw dataset at large can be obtained from the UK Department of Transport. I chose this dataset as with an increasing number of accidents today, I am interested to investigate more about the cause of these accidents, and what changes or reforms that can be made to reduce the number. Additionally, being in Pittsburgh and being exposed to the concept of self-driving cars, I believe this information will be valuable for such companies.\n"
   ]
  },
  {
   "cell_type": "code",
   "execution_count": null,
   "metadata": {},
   "outputs": [],
   "source": []
  }
 ],
 "metadata": {
  "kernelspec": {
   "display_name": "R",
   "language": "R",
   "name": "ir"
  },
  "language_info": {
   "codemirror_mode": "r",
   "file_extension": ".r",
   "mimetype": "text/x-r-source",
   "name": "R",
   "pygments_lexer": "r",
   "version": "3.4.3"
  }
 },
 "nbformat": 4,
 "nbformat_minor": 2
}
